{
 "cells": [
  {
   "cell_type": "markdown",
   "id": "38e188a5",
   "metadata": {},
   "source": [
    "# Exercise 00\n",
    "Write a piece of code that allocates a list of 20 integers and initializes each element by its index multiplied by 5. Print the result."
   ]
  },
  {
   "cell_type": "code",
   "execution_count": 18,
   "id": "01aa4f35",
   "metadata": {},
   "outputs": [],
   "source": [
    "listOfNo = list(range(1, 20+1))\n"
   ]
  },
  {
   "cell_type": "code",
   "execution_count": 2,
   "id": "8e9c429b",
   "metadata": {},
   "outputs": [
    {
     "name": "stdout",
     "output_type": "stream",
     "text": [
      "[5, 10, 15, 20, 25, 30, 35, 40, 45, 50, 55, 60, 65, 70, 75, 80, 85, 90, 95, 100]\n"
     ]
    }
   ],
   "source": [
    "newlistOfNo = [i*5 for i in listOfNo]\n",
    "print(newlistOfNo)"
   ]
  },
  {
   "cell_type": "code",
   "execution_count": 5,
   "id": "fc2e19e0",
   "metadata": {},
   "outputs": [],
   "source": [
    "mylist =[]\n",
    "for i in range(20):\n",
    "    mylist.append(i*5)"
   ]
  },
  {
   "cell_type": "code",
   "execution_count": 6,
   "id": "749286e1",
   "metadata": {},
   "outputs": [
    {
     "data": {
      "text/plain": [
       "[0, 5, 10, 15, 20, 25, 30, 35, 40, 45, 50, 55, 60, 65, 70, 75, 80, 85, 90, 95]"
      ]
     },
     "execution_count": 6,
     "metadata": {},
     "output_type": "execute_result"
    }
   ],
   "source": [
    "mylist"
   ]
  },
  {
   "cell_type": "markdown",
   "id": "529d91ae",
   "metadata": {},
   "source": [
    "# Exercise 01\n",
    "Define a function that takes an integer as input, prints  all integers that it is divisable by, and returns the largest one."
   ]
  },
  {
   "cell_type": "code",
   "execution_count": 16,
   "id": "30e79132",
   "metadata": {},
   "outputs": [],
   "source": [
    "def dividers(n):\n",
    "    div = 1\n",
    "    for i in range(1,int(n)+1):\n",
    "        if n%i==0:\n",
    "            div = i\n",
    "            print(i)\n",
    "    return div"
   ]
  },
  {
   "cell_type": "code",
   "execution_count": 17,
   "id": "dd4c5765",
   "metadata": {},
   "outputs": [
    {
     "name": "stdout",
     "output_type": "stream",
     "text": [
      "1\n",
      "2\n",
      "5\n",
      "10\n"
     ]
    },
    {
     "data": {
      "text/plain": [
       "10"
      ]
     },
     "execution_count": 17,
     "metadata": {},
     "output_type": "execute_result"
    }
   ],
   "source": [
    "dividers(10)"
   ]
  },
  {
   "cell_type": "code",
   "execution_count": 11,
   "id": "6b4a92f8",
   "metadata": {},
   "outputs": [
    {
     "data": {
      "text/plain": [
       "5"
      ]
     },
     "execution_count": 11,
     "metadata": {},
     "output_type": "execute_result"
    }
   ],
   "source": [
    "int(5.5)"
   ]
  },
  {
   "cell_type": "markdown",
   "id": "cfbe30d4",
   "metadata": {},
   "source": [
    "# Exercise 02\n",
    "- create a dictionary with 6 keys and values of your choice\n",
    "- write a function that takes a dictionary and a value as input and returns whether the value occurs as a key in the dictionary\n",
    "- write a function that takes a dictionary as input, and returns the dictionary but the keys are swapped with their values (resolve the issue if a value occurs twice!)"
   ]
  },
  {
   "cell_type": "code",
   "execution_count": 5,
   "id": "2123f1c6",
   "metadata": {},
   "outputs": [],
   "source": [
    "dist = {\n",
    "    \"University\":\"UCL\",\n",
    "    \"collge\":\"Bartlett\",\n",
    "    \"course\":\"MArch UD\",\n",
    "    \"start date\":\"25 Sep 2023\",\n",
    "    \"end date\":\"24 Sep 2024\",\n",
    "    \"postalcode\":\"WC1E 6BT\"}"
   ]
  },
  {
   "cell_type": "code",
   "execution_count": 10,
   "id": "e92f7115",
   "metadata": {},
   "outputs": [
    {
     "name": "stdout",
     "output_type": "stream",
     "text": [
      "{'University': 'UCL', 'collge': 'Bartlett', 'course': 'MArch UD', 'start date': '25 Sep 2023', 'end date': '24 Sep 2024', 'postalcode': 'WC1E 6BT'}\n"
     ]
    }
   ],
   "source": [
    "print(dist)"
   ]
  },
  {
   "cell_type": "code",
   "execution_count": 6,
   "id": "533ae863",
   "metadata": {},
   "outputs": [],
   "source": [
    "def inDictionary(d,k):\n",
    "    for t in d.keys():\n",
    "        if k == t:\n",
    "            return True\n",
    "    return False"
   ]
  },
  {
   "cell_type": "code",
   "execution_count": 7,
   "id": "b0e9be70",
   "metadata": {},
   "outputs": [
    {
     "data": {
      "text/plain": [
       "False"
      ]
     },
     "execution_count": 7,
     "metadata": {},
     "output_type": "execute_result"
    }
   ],
   "source": [
    "inDictionary(dist, \"UCL\")"
   ]
  },
  {
   "cell_type": "code",
   "execution_count": 22,
   "id": "14875a06",
   "metadata": {},
   "outputs": [],
   "source": [
    "def swap_keys_values(dictionary):\n",
    "    swapped_dict = {value: key for key, value in dictionary.items()}\n",
    "    return swapped_dict"
   ]
  },
  {
   "cell_type": "code",
   "execution_count": 14,
   "id": "de839e6a",
   "metadata": {},
   "outputs": [
    {
     "name": "stdout",
     "output_type": "stream",
     "text": [
      "{1: 'a', 2: 'b', 3: 'c'}\n"
     ]
    }
   ],
   "source": [
    "my_dict = {'a': 1, 'b': 2, 'c': 3}\n",
    "print(swap_keys_values(my_dict))"
   ]
  },
  {
   "cell_type": "code",
   "execution_count": 15,
   "id": "3e8350f6",
   "metadata": {},
   "outputs": [
    {
     "name": "stdout",
     "output_type": "stream",
     "text": [
      "{'UCL': 'University', 'Bartlett': 'collge', 'MArch UD': 'course', '25 Sep 2023': 'start date', '24 Sep 2024': 'end date', 'WC1E 6BT': 'postalcode'}\n"
     ]
    }
   ],
   "source": [
    "print(swap_keys_values(dist))"
   ]
  },
  {
   "cell_type": "markdown",
   "id": "b4b4e426",
   "metadata": {},
   "source": [
    "# Exercise 03\n",
    "Define a function that creates a dictionary of the first n fibonacci numbers as values paired with their indices as keys. "
   ]
  },
  {
   "cell_type": "code",
   "execution_count": 6,
   "id": "7845b5a4",
   "metadata": {},
   "outputs": [],
   "source": [
    "def fibancii(n):\n",
    "    fib = {}\n",
    "    n1=0\n",
    "    n2=0\n",
    "    for i in range(n):\n",
    "        fib[i]= n1\n",
    "        j =n1+n2\n",
    "        n1 = n2\n",
    "        n2 = j\n",
    "    return fib"
   ]
  },
  {
   "cell_type": "code",
   "execution_count": 9,
   "id": "4c1bfa7d",
   "metadata": {},
   "outputs": [
    {
     "data": {
      "text/plain": [
       "{0: 0,\n",
       " 1: 0,\n",
       " 2: 0,\n",
       " 3: 0,\n",
       " 4: 0,\n",
       " 5: 0,\n",
       " 6: 0,\n",
       " 7: 0,\n",
       " 8: 0,\n",
       " 9: 0,\n",
       " 10: 0,\n",
       " 11: 0,\n",
       " 12: 0,\n",
       " 13: 0,\n",
       " 14: 0}"
      ]
     },
     "execution_count": 9,
     "metadata": {},
     "output_type": "execute_result"
    }
   ],
   "source": [
    "fibancii(15)"
   ]
  },
  {
   "cell_type": "code",
   "execution_count": null,
   "id": "c9b1b7ee",
   "metadata": {},
   "outputs": [],
   "source": []
  }
 ],
 "metadata": {
  "kernelspec": {
   "display_name": "Python 3 (ipykernel)",
   "language": "python",
   "name": "python3"
  },
  "language_info": {
   "codemirror_mode": {
    "name": "ipython",
    "version": 3
   },
   "file_extension": ".py",
   "mimetype": "text/x-python",
   "name": "python",
   "nbconvert_exporter": "python",
   "pygments_lexer": "ipython3",
   "version": "3.8.18"
  }
 },
 "nbformat": 4,
 "nbformat_minor": 5
}
